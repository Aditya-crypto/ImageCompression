{
 "cells": [
  {
   "cell_type": "markdown",
   "metadata": {
    "colab_type": "text",
    "id": "k8-LykDkLg7d"
   },
   "source": [
    "## Q1 PCA From Scratch"
   ]
  },
  {
   "cell_type": "markdown",
   "metadata": {
    "colab_type": "text",
    "id": "VETKQ2xB2Vwc"
   },
   "source": [
    "## Import Libraries"
   ]
  },
  {
   "cell_type": "code",
   "execution_count": 0,
   "metadata": {
    "colab": {},
    "colab_type": "code",
    "id": "hsdnap1ULeTv"
   },
   "outputs": [],
   "source": [
    "from PIL import Image\n",
    "import numpy as np\n",
    "import sys\n",
    "import os\n",
    "import csv\n",
    "import pandas as pd"
   ]
  },
  {
   "cell_type": "markdown",
   "metadata": {
    "colab_type": "text",
    "id": "974e2D8_LrEX"
   },
   "source": [
    "# Making Filelist containing names of all Files"
   ]
  },
  {
   "cell_type": "code",
   "execution_count": 0,
   "metadata": {
    "colab": {},
    "colab_type": "code",
    "id": "UObAjbOg48hM"
   },
   "outputs": [],
   "source": [
    "def FileList(myDir, format='.jpg'):\n",
    "    fileList = []\n",
    "    ext=\".jpg\"\n",
    "    for root,dirs, files in os.walk(myDir, topdown=False):\n",
    "        for name in files:\n",
    "            if name.endswith(format):\n",
    "                fullName = os.path.join(name,ext)\n",
    "                fileList.append(name)\n",
    "    return fileList"
   ]
  },
  {
   "cell_type": "code",
   "execution_count": 0,
   "metadata": {
    "colab": {},
    "colab_type": "code",
    "id": "QDSqGsmU5JQz"
   },
   "outputs": [],
   "source": [
    "filelist=FileList(\"/content/drive/My Drive/Dataset/\")\n",
    "filelist.sort()"
   ]
  },
  {
   "cell_type": "markdown",
   "metadata": {
    "colab_type": "text",
    "id": "VEFlr5tlL6d4"
   },
   "source": [
    "# converting images into grayform and representing images into matrix"
   ]
  },
  {
   "cell_type": "code",
   "execution_count": 0,
   "metadata": {
    "colab": {},
    "colab_type": "code",
    "id": "DZo7QR2U5RYp"
   },
   "outputs": [],
   "source": [
    "imageset=[]\n",
    "for file in filelist:\n",
    "    imgfile = Image.open(\"/content/drive/My Drive/Dataset/\"+file)\n",
    "    width, height = imgfile.size  \n",
    "    left = 6\n",
    "    top = height / 4\n",
    "    right = 174\n",
    "    bottom = 3 * height / 4 \n",
    "    im1 = imgfile.crop((left, top, right, bottom)) \n",
    "    newsize = (64,64) \n",
    "    im1 = im1.resize(newsize) \n",
    "#     # Make image Greyscale\n",
    "    im1 = im1.convert('L')\n",
    "    im1.show()\n",
    "    value = np.asarray(im1.getdata(), dtype=np.int)\n",
    "    value = value.flatten()\n",
    "    imageset.append(value)"
   ]
  },
  {
   "cell_type": "code",
   "execution_count": 0,
   "metadata": {
    "colab": {
     "base_uri": "https://localhost:8080/",
     "height": 156
    },
    "colab_type": "code",
    "id": "PJ6u_zdb5cko",
    "outputId": "f6d1c67a-81f9-4b96-be37-3d50a805e378"
   },
   "outputs": [
    {
     "name": "stdout",
     "output_type": "stream",
     "text": [
      "[[188 193 196 ... 126 148 142]\n",
      " [ 66  89  99 ...  92  95  92]\n",
      " [ 21  18  20 ... 164 164 168]\n",
      " ...\n",
      " [ 35  32  31 ...  71  88 114]\n",
      " [ 68  41  29 ... 164 153 136]\n",
      " [ 59  57  56 ...  45  56  77]]\n",
      "(520, 4096)\n"
     ]
    }
   ],
   "source": [
    "#converting into numpy array\n",
    "df=np.asarray(imageset)\n",
    "print(df)\n",
    "print(df.shape)"
   ]
  },
  {
   "cell_type": "code",
   "execution_count": 0,
   "metadata": {
    "colab": {
     "base_uri": "https://localhost:8080/",
     "height": 260
    },
    "colab_type": "code",
    "id": "gZk14AFj5miH",
    "outputId": "439362fa-ba45-4a15-f1b0-619927538245"
   },
   "outputs": [
    {
     "name": "stdout",
     "output_type": "stream",
     "text": [
      "(520, 4096)\n",
      "[[ 1.54302733  1.60024926  1.61324287 ... -0.06215763  0.41155578\n",
      "   0.25999603]\n",
      " [-0.45207414 -0.10658229  0.0090008  ... -0.78753509 -0.75153664\n",
      "  -0.8632836 ]\n",
      " [-1.18797223 -1.27182306 -1.29754686 ...  0.74855836  0.76267802\n",
      "   0.84410144]\n",
      " ...\n",
      " [-0.95902616 -1.04205727 -1.1156225  ... -1.23556235 -0.90515262\n",
      "  -0.36904056]\n",
      " [-0.41936756 -0.8943507  -1.14869965 ...  0.74855836  0.52128148\n",
      "   0.12520248]\n",
      " [-0.56654718 -0.63176123 -0.70215805 ... -1.79026276 -1.60739711\n",
      "  -1.20026749]]\n"
     ]
    }
   ],
   "source": [
    "#Normalising Data using Standard Scaler\n",
    "from sklearn.preprocessing import StandardScaler\n",
    "std_data=StandardScaler().fit_transform(df)\n",
    "print(std_data.shape)\n",
    "print(std_data)"
   ]
  },
  {
   "cell_type": "markdown",
   "metadata": {
    "colab_type": "text",
    "id": "J3Y1juUtNPEe"
   },
   "source": [
    "# Covariance Matrix"
   ]
  },
  {
   "cell_type": "code",
   "execution_count": 0,
   "metadata": {
    "colab": {
     "base_uri": "https://localhost:8080/",
     "height": 260
    },
    "colab_type": "code",
    "id": "pvXukkNN52ON",
    "outputId": "9ca53bd2-fd52-4d32-bce3-bc4309b09639"
   },
   "outputs": [
    {
     "name": "stdout",
     "output_type": "stream",
     "text": [
      "(4096, 4096)\n",
      "[[ 1.00192678  0.96409407  0.9067932  ... -0.06938033 -0.05578848\n",
      "  -0.03637339]\n",
      " [ 0.96409407  1.00192678  0.97260992 ... -0.07013523 -0.057902\n",
      "  -0.03498668]\n",
      " [ 0.9067932   0.97260992  1.00192678 ... -0.06543768 -0.05252324\n",
      "  -0.0281183 ]\n",
      " ...\n",
      " [-0.06938033 -0.07013523 -0.06543768 ...  1.00192678  0.95882463\n",
      "   0.88433389]\n",
      " [-0.05578848 -0.057902   -0.05252324 ...  0.95882463  1.00192678\n",
      "   0.9614479 ]\n",
      " [-0.03637339 -0.03498668 -0.0281183  ...  0.88433389  0.9614479\n",
      "   1.00192678]]\n"
     ]
    }
   ],
   "source": [
    "df=std_data\n",
    "covarMat=np.cov(df.T)\n",
    "print(covarMat.shape)\n",
    "print(covarMat)"
   ]
  },
  {
   "cell_type": "markdown",
   "metadata": {
    "colab_type": "text",
    "id": "ZZ49df4UOh0I"
   },
   "source": [
    "# Computing Eigen Values and Eigen Vectors"
   ]
  },
  {
   "cell_type": "code",
   "execution_count": 0,
   "metadata": {
    "colab": {},
    "colab_type": "code",
    "id": "b0tC3PTh55g9"
   },
   "outputs": [],
   "source": [
    "from scipy.linalg import eigh"
   ]
  },
  {
   "cell_type": "code",
   "execution_count": 0,
   "metadata": {
    "colab": {},
    "colab_type": "code",
    "id": "p18fq4-c6BkJ"
   },
   "outputs": [],
   "source": [
    "values, vectors=eigh(covarMat)"
   ]
  },
  {
   "cell_type": "code",
   "execution_count": 0,
   "metadata": {
    "colab": {
     "base_uri": "https://localhost:8080/",
     "height": 52
    },
    "colab_type": "code",
    "id": "0w4dDdv_PKQV",
    "outputId": "fbe710ab-159d-47b8-c55a-6c5f4d0b56af"
   },
   "outputs": [
    {
     "name": "stdout",
     "output_type": "stream",
     "text": [
      "[-1.19251824e-12 -5.84105843e-13 -3.38485263e-13 ...  2.48551230e+02\n",
      "  5.45667356e+02  1.54880113e+03]\n"
     ]
    }
   ],
   "source": [
    "print(values)"
   ]
  },
  {
   "cell_type": "code",
   "execution_count": 0,
   "metadata": {
    "colab": {
     "base_uri": "https://localhost:8080/",
     "height": 243
    },
    "colab_type": "code",
    "id": "AS3emDukPNDq",
    "outputId": "5e698be3-1098-462b-eb9f-09486f9cae8d"
   },
   "outputs": [
    {
     "name": "stdout",
     "output_type": "stream",
     "text": [
      "[[ 0.08427324  0.09281931 -0.06063673 ...  0.01506904 -0.02188767\n",
      "  -0.00853041]\n",
      " [-0.59606209 -0.44176983 -0.05540071 ...  0.01534095 -0.02239255\n",
      "  -0.00897891]\n",
      " [ 0.55254171 -0.45716883  0.02734108 ...  0.01463272 -0.02256451\n",
      "  -0.0094989 ]\n",
      " ...\n",
      " [-0.00084465 -0.01957545  0.01046597 ...  0.01090589  0.0208769\n",
      "  -0.00945894]\n",
      " [-0.0024928  -0.01322022 -0.01493542 ...  0.01338194  0.02073632\n",
      "  -0.01005814]\n",
      " [-0.00718417  0.02177467  0.02096824 ...  0.0162763   0.02071354\n",
      "  -0.01079312]]\n"
     ]
    }
   ],
   "source": [
    "print(vectors)"
   ]
  },
  {
   "cell_type": "markdown",
   "metadata": {
    "colab_type": "text",
    "id": "MloZOvZtPalw"
   },
   "source": [
    "#Sorted eigen values in Descending Order"
   ]
  },
  {
   "cell_type": "code",
   "execution_count": 0,
   "metadata": {
    "colab": {
     "base_uri": "https://localhost:8080/",
     "height": 52
    },
    "colab_type": "code",
    "id": "7tqUmMv9Y7c0",
    "outputId": "161d90c1-568a-465c-c166-612c6ca4d04a"
   },
   "outputs": [
    {
     "name": "stdout",
     "output_type": "stream",
     "text": [
      "[ 1.54880113e+03  5.45667356e+02  2.48551230e+02 ... -3.38485263e-13\n",
      " -5.84105843e-13 -1.19251824e-12]\n"
     ]
    }
   ],
   "source": [
    "idx= np.argsort(values)\n",
    "idx = idx[::-1]\n",
    "eigvec = vectors[:,idx]\n",
    "eigval = values[idx]\n",
    "print(eigval)"
   ]
  },
  {
   "cell_type": "markdown",
   "metadata": {
    "colab_type": "text",
    "id": "40ZsArRzP2Ot"
   },
   "source": [
    "# Finding Max-variance rotio varying number of Principle Components"
   ]
  },
  {
   "cell_type": "code",
   "execution_count": 0,
   "metadata": {
    "colab": {},
    "colab_type": "code",
    "id": "wAtLzcFw6DFA"
   },
   "outputs": [],
   "source": [
    "total=sum(eigval)\n",
    "eigcum=np.array(np.cumsum(eigval))\n",
    "computed=[0]*eigvec.shape[0]\n",
    "for i in range(0,eigvec.shape[0]):\n",
    "  computed[i]=eigcum[i]/total"
   ]
  },
  {
   "cell_type": "markdown",
   "metadata": {
    "colab_type": "text",
    "id": "VuJY5bbJQl8Q"
   },
   "source": [
    "# Plotting Graph to show variance for different number of principle components"
   ]
  },
  {
   "cell_type": "code",
   "execution_count": 0,
   "metadata": {
    "colab": {
     "base_uri": "https://localhost:8080/",
     "height": 388
    },
    "colab_type": "code",
    "id": "DxLQX5qgQelG",
    "outputId": "60456639-a869-4bf7-af19-630f71c98f05"
   },
   "outputs": [
    {
     "data": {
      "image/png": "[encoded data removed]",
      "text/plain": [
       "<Figure size 576x432 with 1 Axes>"
      ]
     },
     "metadata": {
      "tags": []
     },
     "output_type": "display_data"
    }
   ],
   "source": [
    "import matplotlib.pyplot as plt\n",
    "plt.figure(1,figsize=(8,6))\n",
    "plt.clf()\n",
    "y=[]\n",
    "for i in range(0,4096):\n",
    "  y.append(i)\n",
    "plt.plot(y,computed,linewidth=4)\n",
    "\n",
    "plt.grid()\n",
    "plt.xlabel(\"components\")\n",
    "plt.ylabel(\"variance Explained\")\n",
    "plt.show()"
   ]
  },
  {
   "cell_type": "markdown",
   "metadata": {
    "colab_type": "text",
    "id": "7uQd3oVlQ4dW"
   },
   "source": [
    "# Considering top 100 PCA Components"
   ]
  },
  {
   "cell_type": "code",
   "execution_count": 0,
   "metadata": {
    "colab": {
     "base_uri": "https://localhost:8080/",
     "height": 52
    },
    "colab_type": "code",
    "id": "WyesUppnuqCe",
    "outputId": "a788adee-9fbd-4632-fb37-bd29c68d7a7b"
   },
   "outputs": [
    {
     "name": "stdout",
     "output_type": "stream",
     "text": [
      "0.95400449141152\n",
      "(4096, 100)\n"
     ]
    }
   ],
   "source": [
    "#computed variance for top 100 eigen values\n",
    "print(computed[100])\n",
    "subeigvec=eigvec[:,:100]\n",
    "print(subeigvec.shape)"
   ]
  },
  {
   "cell_type": "code",
   "execution_count": 0,
   "metadata": {
    "colab": {
     "base_uri": "https://localhost:8080/",
     "height": 34
    },
    "colab_type": "code",
    "id": "tp1YEsqHzTFu",
    "outputId": "fcae0727-0303-4649-8ab7-88b5237889ad"
   },
   "outputs": [
    {
     "name": "stdout",
     "output_type": "stream",
     "text": [
      "(520, 4096)\n"
     ]
    }
   ],
   "source": [
    "print(df.shape)"
   ]
  },
  {
   "cell_type": "code",
   "execution_count": 0,
   "metadata": {
    "colab": {},
    "colab_type": "code",
    "id": "CDEmb03dxwMk"
   },
   "outputs": [],
   "source": [
    "newdata=np.dot(df,subeigvec)\n",
    "# reconstruction of newdataset in original dimension\n",
    "newdata=np.dot(newdata,subeigvec.T)"
   ]
  },
  {
   "cell_type": "code",
   "execution_count": 0,
   "metadata": {
    "colab": {
     "base_uri": "https://localhost:8080/",
     "height": 34
    },
    "colab_type": "code",
    "id": "oXGdzb_0zr06",
    "outputId": "e9a6d9ce-d763-4d04-cbdc-f0443915b1e7"
   },
   "outputs": [
    {
     "name": "stdout",
     "output_type": "stream",
     "text": [
      "(520, 4096)\n"
     ]
    }
   ],
   "source": [
    "print(newdata.shape)"
   ]
  },
  {
   "cell_type": "markdown",
   "metadata": {
    "colab_type": "text",
    "id": "7A3HG-6USe-B"
   },
   "source": [
    "# Before applying PCA"
   ]
  },
  {
   "cell_type": "code",
   "execution_count": 0,
   "metadata": {
    "colab": {
     "base_uri": "https://localhost:8080/",
     "height": 268
    },
    "colab_type": "code",
    "id": "Gp5lrJEY-4ac",
    "outputId": "da388768-bdde-48ab-b364-ea621e2f1f50"
   },
   "outputs": [
    {
     "data": {
      "image/png": "[encoded data removed]",
      "text/plain": [
       "<Figure size 432x288 with 1 Axes>"
      ]
     },
     "metadata": {
      "tags": []
     },
     "output_type": "display_data"
    }
   ],
   "source": [
    "idx=1\n",
    "grid_data=df[idx].reshape(64,64)\n",
    "plt.imshow(grid_data,interpolation='None',cmap='gray')\n",
    "plt.show()"
   ]
  },
  {
   "cell_type": "markdown",
   "metadata": {
    "colab_type": "text",
    "id": "oPd729c0Sl9s"
   },
   "source": [
    "#After Applying PCA"
   ]
  },
  {
   "cell_type": "code",
   "execution_count": 0,
   "metadata": {
    "colab": {
     "base_uri": "https://localhost:8080/",
     "height": 268
    },
    "colab_type": "code",
    "id": "w5xajh2o0pxS",
    "outputId": "701afb02-e05d-4869-d27e-01eea06493be"
   },
   "outputs": [
    {
     "data": {
      "image/png": "[encoded data removed]",
      "text/plain": [
       "<Figure size 432x288 with 1 Axes>"
      ]
     },
     "metadata": {
      "tags": []
     },
     "output_type": "display_data"
    }
   ],
   "source": [
    "idx=1\n",
    "grid_data=newdata[idx].reshape(64,64)\n",
    "plt.imshow(grid_data,interpolation='None',cmap='gray')\n",
    "plt.show()"
   ]
  },
  {
   "cell_type": "markdown",
   "metadata": {
    "colab_type": "text",
    "id": "fueTjLxiSwIo"
   },
   "source": [
    "#Plotting Graph for Mean Squared Error"
   ]
  },
  {
   "cell_type": "code",
   "execution_count": 0,
   "metadata": {
    "colab": {
     "base_uri": "https://localhost:8080/",
     "height": 86
    },
    "colab_type": "code",
    "id": "gWXOxXfct-Jz",
    "outputId": "bc2cbc20-546f-4ac3-e080-a4b75148aa3a"
   },
   "outputs": [
    {
     "name": "stdout",
     "output_type": "stream",
     "text": [
      "(4096, 500)\n",
      "(4096, 400)\n",
      "(4096, 300)\n",
      "(4096, 200)\n"
     ]
    }
   ],
   "source": [
    "x=600\n",
    "y=[]\n",
    "for i in range(0,4):\n",
    "    x=x-100\n",
    "    eig_vec = eigvec[:, range(x)]\n",
    "    score = np.dot(eig_vec.T, df.T)\n",
    "    recon = np.dot(eig_vec, score)\n",
    "    err=np.square(np.subtract(df,recon.T)).mean()\n",
    "    y.append(err)"
   ]
  },
  {
   "cell_type": "code",
   "execution_count": 0,
   "metadata": {
    "colab": {
     "base_uri": "https://localhost:8080/",
     "height": 267
    },
    "colab_type": "code",
    "id": "pOhZC49mWPHr",
    "outputId": "3acbcae3-4e35-45da-d138-c0f0ec83a78f"
   },
   "outputs": [
    {
     "data": {
      "image/png": "[encoded data removed]",
      "text/plain": [
       "<Figure size 432x288 with 1 Axes>"
      ]
     },
     "metadata": {
      "tags": []
     },
     "output_type": "display_data"
    }
   ],
   "source": [
    "a=[500,400,300,200]\n",
    "plt.plot(a,y)\n",
    "plt.show()"
   ]
  },
  {
   "cell_type": "markdown",
   "metadata": {
    "colab_type": "text",
    "id": "ENGYYiQmTGm_"
   },
   "source": [
    "# 1-D Scatter plot of one image"
   ]
  },
  {
   "cell_type": "code",
   "execution_count": 0,
   "metadata": {
    "colab": {
     "base_uri": "https://localhost:8080/",
     "height": 300
    },
    "colab_type": "code",
    "id": "RG-cWbTbr2Lv",
    "outputId": "50de7a1e-adcc-42dd-a580-408bfcd8186d"
   },
   "outputs": [
    {
     "name": "stdout",
     "output_type": "stream",
     "text": [
      "(4096, 1)\n"
     ]
    },
    {
     "data": {
      "text/plain": [
       "<function matplotlib.pyplot.show>"
      ]
     },
     "execution_count": 30,
     "metadata": {
      "tags": []
     },
     "output_type": "execute_result"
    },
    {
     "data": {
      "image/png": "[encoded data removed]",
      "text/plain": [
       "<Figure size 432x288 with 1 Axes>"
      ]
     },
     "metadata": {
      "tags": []
     },
     "output_type": "display_data"
    }
   ],
   "source": [
    "newvec= eigvec[:,:1]\n",
    "print(np.shape(newvec)) \n",
    "score = np.dot(df, newvec)\n",
    "y=[0]*520\n",
    "plt.scatter(score[:,0],y,s=80,linewidth=1,facecolors='yellow',edgecolors='b')\n",
    "plt.show"
   ]
  },
  {
   "cell_type": "markdown",
   "metadata": {
    "colab_type": "text",
    "id": "qDnxRAJ_TSgC"
   },
   "source": [
    "# 2-D Scatter Plot"
   ]
  },
  {
   "cell_type": "code",
   "execution_count": 0,
   "metadata": {
    "colab": {
     "base_uri": "https://localhost:8080/",
     "height": 317
    },
    "colab_type": "code",
    "id": "XN-UquT15pTt",
    "outputId": "bcd5233f-9f66-466b-f635-375a55a15966"
   },
   "outputs": [
    {
     "name": "stdout",
     "output_type": "stream",
     "text": [
      "(4096, 2)\n"
     ]
    },
    {
     "data": {
      "text/plain": [
       "<function matplotlib.pyplot.show>"
      ]
     },
     "execution_count": 34,
     "metadata": {
      "tags": []
     },
     "output_type": "execute_result"
    },
    {
     "data": {
      "image/png": "[encoded data removed]",
      "text/plain": [
       "<Figure size 432x288 with 1 Axes>"
      ]
     },
     "metadata": {
      "tags": []
     },
     "output_type": "display_data"
    }
   ],
   "source": [
    "new_vec= eigvec[:, range(2)]\n",
    "print(np.shape(new_vec)) \n",
    "score = np.dot(df, new_vec)\n",
    "plt.scatter(score[:,0],score[:,1],s=20,linewidth=1,facecolors='r')\n",
    "plt.xlabel(\"components\")\n",
    "plt.ylabel(\"variance Explained\")\n",
    "plt.show"
   ]
  },
  {
   "cell_type": "markdown",
   "metadata": {
    "colab_type": "text",
    "id": "jjMm-B8PZjYu"
   },
   "source": [
    "# 3-D Scatter Plot"
   ]
  },
  {
   "cell_type": "code",
   "execution_count": 0,
   "metadata": {
    "colab": {
     "base_uri": "https://localhost:8080/",
     "height": 265
    },
    "colab_type": "code",
    "id": "tIl7JP2IYSTT",
    "outputId": "12108761-62aa-4ae4-d32c-ff38a735a388"
   },
   "outputs": [
    {
     "name": "stdout",
     "output_type": "stream",
     "text": [
      "(4096, 3)\n"
     ]
    },
    {
     "data": {
      "image/png": "[encoded data removed]",
      "text/plain": [
       "<Figure size 432x288 with 1 Axes>"
      ]
     },
     "metadata": {
      "tags": []
     },
     "output_type": "display_data"
    }
   ],
   "source": [
    "import matplotlib.pyplot as plt\n",
    "from mpl_toolkits.mplot3d import Axes3D\n",
    "new_vec= eigvec[:, range(3)]\n",
    "print(np.shape(new_vec)) \n",
    "score = np.dot(df, new_vec)\n",
    "fig=plt.figure()\n",
    "obj=fig.gca(projection='3d')\n",
    "obj.scatter3D(np.real(score[:,0]),np.real(score[:,1]),np.real(score[:,2]),c=np.real(score[:,1]),cmap='Greens');"
   ]
  },
  {
   "cell_type": "code",
   "execution_count": 0,
   "metadata": {
    "colab": {},
    "colab_type": "code",
    "id": "P5gLfb5uY6QW"
   },
   "outputs": [],
   "source": []
  }
 ],
 "metadata": {
  "colab": {
   "collapsed_sections": [],
   "name": "q1a3.ipynb",
   "provenance": []
  },
  "kernelspec": {
   "display_name": "Python 3",
   "language": "python",
   "name": "python3"
  },
  "language_info": {
   "codemirror_mode": {
    "name": "ipython",
    "version": 3
   },
   "file_extension": ".py",
   "mimetype": "text/x-python",
   "name": "python",
   "nbconvert_exporter": "python",
   "pygments_lexer": "ipython3",
   "version": "3.6.9"
  }
 },
 "nbformat": 4,
 "nbformat_minor": 1
}
